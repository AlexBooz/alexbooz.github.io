{
  "nbformat": 4,
  "nbformat_minor": 0,
  "metadata": {
    "colab": {
      "provenance": [],
      "authorship_tag": "ABX9TyPBkESWVWLU5lrt81E1JOqy"
    },
    "kernelspec": {
      "name": "python3",
      "display_name": "Python 3"
    },
    "language_info": {
      "name": "python"
    }
  },
  "cells": [
    {
      "cell_type": "code",
      "execution_count": 12,
      "metadata": {
        "colab": {
          "base_uri": "https://localhost:8080/"
        },
        "id": "a4nl2ROfHqoa",
        "outputId": "142efeb2-4672-471a-ff16-1884ec5c5b94"
      },
      "outputs": [
        {
          "output_type": "stream",
          "name": "stdout",
          "text": [
            "Введите число для вычисления факториала:\n",
            "abc\n",
            "Ошибка: could not convert string to float: 'abc'\n"
          ]
        }
      ],
      "source": [
        "# Функция для вычисления факториала числа с использованием рекурсии\n",
        "def factorial(n):\n",
        "    if n < 0:\n",
        "        raise ValueError(\"Факториал определён только для неотрицательных чисел.\")\n",
        "    if n == 0:\n",
        "        return 1\n",
        "    return n * factorial(n - 1)\n",
        "\n",
        "# Простой интерфейс для ввода числа\n",
        "try:\n",
        "    print(\"Введите число для вычисления факториала:\")\n",
        "    number = float(input())\n",
        "\n",
        "    # Проверка на целое число\n",
        "    if not number.is_integer():\n",
        "        raise ValueError(\"Введите целое число.\")\n",
        "\n",
        "    number = int(number)\n",
        "    # Вычисление и вывод результата\n",
        "    result = factorial(number)\n",
        "    print(f\"Факториал числа {number} равен {result}\")\n",
        "\n",
        "except ValueError as e:\n",
        "    print(f\"Ошибка: {e}\")\n",
        "except Exception as e:\n",
        "    print(f\"Неожиданная ошибка: {e}\")\n"
      ]
    }
  ]
}